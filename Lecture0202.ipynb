{
 "cells": [
  {
   "cell_type": "markdown",
   "metadata": {},
   "source": [
    "# Simple Event\n",
    "\n",
    "**Formulae**\n",
    "\n",
    "- $p(A) = \\frac{\\text{number of outcomes in A}}{\\text{number of times experimentwas conducted}}$"
   ]
  },
  {
   "cell_type": "code",
   "execution_count": 1,
   "metadata": {},
   "outputs": [
    {
     "name": "stdout",
     "output_type": "stream",
     "text": [
      "0.017\n"
     ]
    }
   ],
   "source": [
    "defective_items = 17\n",
    "inspections = 1000\n",
    "\n",
    "p_defective = 17/1000\n",
    "\n",
    "print(p_defective)"
   ]
  },
  {
   "cell_type": "code",
   "execution_count": 2,
   "metadata": {},
   "outputs": [
    {
     "name": "stdout",
     "output_type": "stream",
     "text": [
      "Probability of selecting a car is 0.21226415094339623\n",
      "Probability of selecting a motorbike is 0.2028301886792453\n"
     ]
    }
   ],
   "source": [
    "buses = 32\n",
    "auto_rickshaws = 64\n",
    "cars = 45\n",
    "taxicabs = 28\n",
    "motorbikes = 43\n",
    "\n",
    "total_vehicles = buses + auto_rickshaws + cars + taxicabs + motorbikes\n",
    "\n",
    "p_cars = cars/total_vehicles\n",
    "p_motorbikes = motorbikes/total_vehicles\n",
    "\n",
    "print(\"Probability of selecting a car is\", p_cars)\n",
    "print(\"Probability of selecting a motorbike is\", p_motorbikes)  "
   ]
  },
  {
   "cell_type": "code",
   "execution_count": 3,
   "metadata": {},
   "outputs": [
    {
     "name": "stdout",
     "output_type": "stream",
     "text": [
      "Probability of getting a 3 is 0.16666666666666666\n",
      "Probability of getting greater than 3 is 0.5\n"
     ]
    }
   ],
   "source": [
    "# 6 faced dice rolles\n",
    "\n",
    "# a. Probability of getting a 3\n",
    "# b. Probability of getting greater than 3\n",
    "\n",
    "s = {1, 2, 3, 4, 5, 6}\n",
    "\n",
    "s_3 = {3}\n",
    "s_greater_than_3 = {4, 5, 6}\n",
    "\n",
    "p_3 = len(s_3)/len(s)\n",
    "p_greater_than_3 = len(s_greater_than_3)/len(s)\n",
    "\n",
    "\n",
    "print(\"Probability of getting a 3 is\", p_3)\n",
    "print(\"Probability of getting greater than 3 is\", p_greater_than_3)\n"
   ]
  },
  {
   "cell_type": "code",
   "execution_count": 4,
   "metadata": {},
   "outputs": [
    {
     "name": "stdout",
     "output_type": "stream",
     "text": [
      "Probability of getting at least one head is 0.75\n",
      "Probability of getting no head is 0.25\n",
      "Probability of getting only one tail is 0.5\n"
     ]
    }
   ],
   "source": [
    "# A fair coin is tossed twice. What is the probability of different events?\n",
    "\n",
    "S = {'HH', 'HT', 'TH', 'TT'}\n",
    "\n",
    "# a. at least one head is observed\n",
    "one_head = {'HT', 'TH', 'HH'}\n",
    "p_one_head = len(one_head)/len(S)\n",
    "print(\"Probability of getting at least one head is\", p_one_head)\n",
    "\n",
    "# b. no head is observed\n",
    "no_head = {'TT'}\n",
    "p_no_head = len(no_head)/len(S)\n",
    "print(\"Probability of getting no head is\", p_no_head)\n",
    "\n",
    "# c. only one tail is observed\n",
    "one_tail = {'HT', 'TH'}\n",
    "p_one_tail = len(one_tail)/len(S)\n",
    "print(\"Probability of getting only one tail is\", p_one_tail)\n"
   ]
  },
  {
   "cell_type": "code",
   "execution_count": 1,
   "metadata": {},
   "outputs": [
    {
     "name": "stdout",
     "output_type": "stream",
     "text": [
      "Probability of selectibg 2 boys and 3 girls is 0.23809523809523808\n"
     ]
    }
   ],
   "source": [
    "# In a class of 6 boys and 4 girls, a group is to be formed of 5 stuents chosen randomly.\n",
    "# Find the probabity that the group wil have 2 boys and 3 girls\n",
    "from math import comb\n",
    "\n",
    "boys = 6\n",
    "girls = 4\n",
    "\n",
    "total_students = 10\n",
    "total_group_members = 5\n",
    "\n",
    "\n",
    "# Total number of ways of selecting 5 students from 10 students\n",
    "# 10C5 = 10!/(5! * (10-5)!) = 10!/(5! * 5!)\n",
    "num_of_ways = comb(total_students, total_group_members)\n",
    "way_of_2_boys = comb(6, 2)\n",
    "way_of_3_girls = comb(4, 3)\n",
    "\n",
    "p_2boys_3girls = (way_of_2_boys*way_of_3_girls)/num_of_ways\n",
    "\n",
    "print(\"Probability of selectibg 2 boys and 3 girls is\", p_2boys_3girls)\n",
    "\n"
   ]
  },
  {
   "cell_type": "code",
   "execution_count": 2,
   "metadata": {},
   "outputs": [
    {
     "name": "stdout",
     "output_type": "stream",
     "text": [
      "Probability of getting same rolls is 0.1388888888888889\n",
      "Probability of getting second roll 1 is 0.16666666666666666\n",
      "Probability of getting sum 8 is 0.1388888888888889\n",
      "Probability of getting sum at least 10 is 0.1111111111111111\n"
     ]
    }
   ],
   "source": [
    "# experiment of two rolls of fair dice.\n",
    "# space is\n",
    "\n",
    "S = {(1, 1), (1, 2), (1, 3), (1, 4), (1, 5),(1, 6),\n",
    "    (2, 1), (2, 2), (2, 3), (2, 4), (2, 5), (2, 6),\n",
    "    (3, 1), (3, 2), (3, 3), (3, 4), (3, 5), (3, 6),\n",
    "    (4, 1), (4, 2), (4, 3), (4, 4), (4, 5), (4, 6),\n",
    "    (5, 1), (5, 2), (5, 3), (5, 4), (5, 5), (5, 6),\n",
    "    (6, 1), (6, 2), (6, 3), (6, 4), (6, 5), (6, 6)}\n",
    "\n",
    "# a. two rolls are same\n",
    "same_rolls = {(1, 1), (2, 2), (3, 3), (4, 4), (5, 5)}\n",
    "p_same_rolls = len(same_rolls)/len(S)\n",
    "print(\"Probability of getting same rolls is\", p_same_rolls)\n",
    "\n",
    "# b. second roll is 1\n",
    "second_roll_1 = {(1, 1), (2, 1), (3, 1), (4, 1), (5, 1), (6, 1)}\n",
    "p_second_roll_1 = len(second_roll_1)/len(S)\n",
    "print(\"Probability of getting second roll 1 is\", p_second_roll_1)\n",
    "\n",
    "# c. sum of two rolls is 8\n",
    "sum_8 = {(2, 6), (3, 5), (4, 4), (5, 3), (6, 2)}\n",
    "p_sum_8 = len(sum_8)/len(S)\n",
    "print(\"Probability of getting sum 8 is\", p_sum_8)\n",
    "\n",
    "# d. sum of two rolls is at least 10\n",
    "sum_at_least_10 = {(5, 5), (5, 6), (6, 5), (6, 6)}\n",
    "p_sum_at_least_10 = len(sum_at_least_10)/len(S) \n",
    "print(\"Probability of getting sum at least 10 is\", p_sum_at_least_10)\n"
   ]
  },
  {
   "cell_type": "code",
   "execution_count": null,
   "metadata": {},
   "outputs": [],
   "source": []
  },
  {
   "cell_type": "markdown",
   "metadata": {},
   "source": [
    "If all the events are mutually exclusive then the events intersection are null.For Example:\n"
   ]
  }
 ],
 "metadata": {
  "kernelspec": {
   "display_name": "Python 3",
   "language": "python",
   "name": "python3"
  },
  "language_info": {
   "codemirror_mode": {
    "name": "ipython",
    "version": 3
   },
   "file_extension": ".py",
   "mimetype": "text/x-python",
   "name": "python",
   "nbconvert_exporter": "python",
   "pygments_lexer": "ipython3",
   "version": "3.10.11"
  }
 },
 "nbformat": 4,
 "nbformat_minor": 2
}
