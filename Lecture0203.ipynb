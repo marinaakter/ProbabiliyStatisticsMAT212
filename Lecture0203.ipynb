{
 "cells": [
  {
   "cell_type": "markdown",
   "metadata": {},
   "source": [
    "### Compound Events\n",
    "\n",
    "**We will look for two combination of events**\n",
    "\n",
    "If A and B are independent events\n",
    "* Either A or B occurs: $A \\cup B$\n",
    "* Both A and B occur: $A \\cap B$"
   ]
  },
  {
   "cell_type": "code",
   "execution_count": 1,
   "metadata": {},
   "outputs": [
    {
     "name": "stdout",
     "output_type": "stream",
     "text": [
      "P(A union B) =  0.5\n",
      "P(A intersection B) =  0.08333333333333333\n"
     ]
    }
   ],
   "source": [
    "# Two rolls of a 6-faced dice\n",
    "S = {(1, 1), (1, 2), (1, 3), (1, 4), (1, 5), (1, 6),\n",
    "    (2, 1), (2, 2), (2, 3), (2, 4), (2, 5), (2, 6),\n",
    "    (3, 1), (3, 2), (3, 3), (3, 4), (3, 5), (3, 6),\n",
    "    (4, 1), (4, 2), (4, 3), (4, 4), (4, 5), (4, 6),\n",
    "    (5, 1), (5, 2), (5, 3), (5, 4), (5, 5), (5, 6),\n",
    "    (6, 1), (6, 2), (6, 3), (6, 4), (6, 5), (6, 6)}\n",
    "\n",
    "# A: Two rolls are same\n",
    "A = {(1, 1), (2, 2), (3, 3), (4, 4), (5, 5), (6, 6)}\n",
    "# B : Sum of two rolls is at least 8\n",
    "B = {(2, 6), (3, 5), (3, 6), (4, 4), (4, 5), (4, 6),(5, 3), (5, 4), (5, 5), (5, 6),(6, 2), (6, 3), (6, 4), (6, 5), (6, 6)}\n",
    "\n",
    "# P(A union B) and P(A intersection B)\n",
    "\n",
    "AUB = A.union(B)\n",
    "AIB = A.intersection(B)\n",
    "\n",
    "p_AUB = len(AUB)/len(S)\n",
    "p_AIB = len(AIB)/len(S)\n",
    "\n",
    "print(\"P(A union B) = \", p_AUB)\n",
    "print(\"P(A intersection B) = \", p_AIB)\n"
   ]
  },
  {
   "cell_type": "code",
   "execution_count": 2,
   "metadata": {},
   "outputs": [
    {
     "name": "stdout",
     "output_type": "stream",
     "text": [
      "P(A union B union C) =  0.6\n",
      "P(A intersection B intersection C) =  0\n",
      "P(A' intersection B' intersection C') =  0.4\n"
     ]
    }
   ],
   "source": [
    "# A, B, C are three mutually exclusive events with p(A) = 0.3, p(B) = 0.2, p(C) = 0.1\n",
    "\n",
    "# P(A union B union C) = P(A) + P(B) + P(C)\n",
    "p_AUBUC = 0.3 + 0.2 + 0.1\n",
    "print(\"P(A union B union C) = \", p_AUBUC)\n",
    "\n",
    "# P(A intersection B intersection C) = 0\n",
    "p_AIBIC = 0 # A, B, C are mutually exclusive\n",
    "print(\"P(A intersection B intersection C) = \", p_AIBIC)\n",
    "\n",
    "# P(A' intersection B' intersection C') = 1 - P(A union B union C)\n",
    "\n",
    "p_AcIBcICc = 1 - p_AUBUC\n",
    "print(\"P(A' intersection B' intersection C') = \", p_AcIBcICc)"
   ]
  }
 ],
 "metadata": {
  "kernelspec": {
   "display_name": "Python 3",
   "language": "python",
   "name": "python3"
  },
  "language_info": {
   "codemirror_mode": {
    "name": "ipython",
    "version": 3
   },
   "file_extension": ".py",
   "mimetype": "text/x-python",
   "name": "python",
   "nbconvert_exporter": "python",
   "pygments_lexer": "ipython3",
   "version": "3.11.4"
  }
 },
 "nbformat": 4,
 "nbformat_minor": 2
}
